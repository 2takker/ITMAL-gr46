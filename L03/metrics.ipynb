{
 "cells": [
  {
   "cell_type": "markdown",
   "metadata": {},
   "source": [
    "# ITMAL Exercise\n",
    "\n",
    "\n",
    "REVISIONS|\n",
    "---------|------------------------------------------------\n",
    "2018-1219| CEF, initial.                  \n",
    "2018-0207| CEF, updated.           \n",
    "2018-0207| CEF, rewritten accuracy paradox section.           \n",
    "\n",
    "## Performance Metrics\n",
    "\n",
    "There are a number of frequently uses metrics in ML, namely accuracy, precision, recall and the $F_1$ score. All are called _metrics_ (though they are not true norms, like ${\\cal L}_2$ or ${\\cal L}_1$ we saw last time).\n",
    "\n",
    "Maybe performance _score_ would be a better name than performance metric, at least for the accuracy, precision, recall we will be looking at---emphasising the conceptual distinction between the  _score-function_ and _cost(/loss/error/objective)-function_ (the later is typically a true distance/norm function).  \n",
    "\n",
    "\n",
    "You can find a lot of details on say precision and recall in Wikipedia\n",
    "\n",
    ">  https://en.wikipedia.org/wiki/Precision_and_recall\n",
    "\n",
    "\n",
    "### Nomenclature\n",
    "\n",
    "NAME           |   SYMBOL   | ALIAS\n",
    "---------------| --------------------\n",
    "true positives | $TP$ |\n",
    "true negatives | $TN$ | \n",
    "false positives| $FP$ | type I error \n",
    "false negatives| $FN$ | type II error \n",
    "\n",
    "and $N = N_P + N_N$ being the total number of samples and the number of positive and negative samples\n",
    "respectively.\n",
    "\n",
    "### Precision\n",
    "\n",
    "$$\n",
    "\\def\\ba{\\begin{array}{lll}}\n",
    "\\def\\ea{\\end{array}}\n",
    "\\newcommand{\\rem}[1]{}\n",
    "\\newcommand{\\subtext}[1]{_{\\scriptsize{\\mbox{#1}}}}\n",
    "\\newcommand{\\st}[1]{\\subtext{#1}}\n",
    "\\ba\n",
    " p &= \\frac{TP}{TP + FP}\n",
    "\\ea\n",
    "$$\n",
    "\n",
    "### Recall or Sensitivity\n",
    "\n",
    "$$\n",
    "  \\ba\n",
    "    r &= \\frac{TP}{TP + FN}\\\\\n",
    "      &= \\frac{TP}{TP + FN}\\\\ \n",
    "      &= \\frac{TP}{N_P}\n",
    "  \\ea\n",
    "$$\n",
    "\n",
    "### Accuracy\n",
    "\n",
    "$$\n",
    "  \\ba\n",
    "      a &= \\frac{TP + TN}{TP + TN + FP + FN}\\\\\n",
    "        &= \\frac{TP + TN}{N}\\\\\n",
    "        &= \\frac{TP + TN}{N_P + N_N} \n",
    "  \\ea\n",
    "$$\n",
    "\n",
    "#### Accuracy Paradox\n",
    "\n",
    "A static constant model, say $p\\st{cancer}=0$ may have higher accuracy than a real model with predictive power. This is odd!\n",
    "\n",
    "Asymmetric weight could also be associated with the false positive and false negative predictions, yielding either FP of FN much more expensive than the other. Say, it is more expensive not to treat a person with cancer, than treating a person without cancer. \n",
    "\n",
    "### F-score\n",
    "\n",
    "General $\\beta$-harmonic mean of the precision and recall \n",
    "$$\n",
    "    F_\\beta = (1+\\beta^2) \\frac{2pr}{\\beta^2 p+r}\\\\\n",
    "$$ \n",
    "that for say $\\beta=2$ or $\\beta=0.5$ shifts or skews the emphasis on the two variables in the equation. Normally only the $\\beta=1$ harmonic mean is used\n",
    "\n",
    "$$\n",
    "  \\ba\n",
    "    F_1     &= \\frac{2pr}{p+r}\\\\\n",
    "            &=\\frac{2}{1/p + 1/r}\n",
    "  \\ea\n",
    "$$\n",
    "with $F$ typically being synonymous with $F_1$. \n",
    "\n",
    "If needed, find more info on Wikipedia\n",
    "\n",
    "> https://en.wikipedia.org/wiki/F1_score\n",
    "\n",
    "\n",
    "## Confusion Matrix\n",
    "\n",
    "For statistical classification, the confusion matrix or error matrix (or\n",
    "matching matrix in unsupervised learning) is for a two-class problem given by\n",
    "the $2\\times2$ matrix with dimensions 'actual' and 'predicted'\n",
    "\n",
    "$$   \n",
    "{\\bf M}\\st{confusion} = \n",
    "\\begin{array}{l|ll}\n",
    "                           & \\mbox{actual true} & \\mbox{actual false} \\\\ \\hline\n",
    "    \\mbox{predicted true}  & TP & FP \\\\     \n",
    "    \\mbox{predicted false} & FN & TN \n",
    "\\end{array}\n",
    "$$\n",
    "\n",
    "The diagonal, in the square matrix, represent predicted values being the same\n",
    "as the actual values, off-diagonal elements represent erroneous prediction.\n",
    "\n",
    "For N-class classification the matrix gives a matrix with $N$ actual\n",
    "classes and $N$ predicted classes\n",
    "\n",
    "$$\n",
    "{\\bf M}\\st{confusion} =\n",
    "  \\left[\n",
    "  \\begin{array}{llll}\n",
    "       c_{11} & c_{12} & \\cdots & c_{1n} \\\\ \n",
    "       c_{21} & c_{22} & \\cdots & c_{2n} \\\\\n",
    "       \\vdots & \\vdots & \\ddots & \\vdots \\\\\n",
    "       c_{n1} & c_{n2} & \\cdots & c_{nn} \\\\ \n",
    "  \\end{array}\n",
    "  \\right]\n",
    "$$\n",
    "with say element $c_{21}$ being the number of actual classes '1' being predicted (erroneously) as class '2'.\n",
    "\n",
    "### Nomenclature for the Confusion Matrix\n",
    "\n",
    "The naming of the elements in the confusion matrix can be rather exotic, like _false omission rate_ (see the figure below), but we won't get to such detail here...let us stick with TP, TN, FP, FN and $F_1$!\n",
    "\n",
    "<img src=\"Figs/performance_metrics.png\" style=\"width:900px\">\n",
    "\n",
    "If you need more info on the confusion matrix:\n",
    "\n",
    ">  https://en.wikipedia.org/wiki/Confusion_matrix\n",
    "\n",
    "#### Qa Implement the Accuracy function and test it on the MNIST data.\n",
    "\n",
    "Implement a general accuracy function `MyAccuracy`, that takes `y_pred` and `y_true` as input parameters.\n",
    "\n",
    "Reuse your MNIST data loader and test the `MyAccuracy` function  both on your dummy classifier and on the Stochastic Gradient Descent classifier (with setup parameters as in [HOLM])."
   ]
  },
  {
   "cell_type": "code",
   "execution_count": 2,
   "metadata": {},
   "outputs": [
    {
     "name": "stdout",
     "output_type": "stream",
     "text": [
      "\n",
      "my a          = 0.9559428571428571\n",
      "scikit-learn a= 0.9559428571428571\n",
      "\n",
      "my a          = 0.9098285714285714\n",
      "scikit-learn a= 0.9098285714285714\n"
     ]
    }
   ],
   "source": [
    "# TODO: Qa...\n",
    "import warnings\n",
    "warnings.simplefilter(action='ignore', category=FutureWarning)\n",
    "\n",
    "import sys, os\n",
    "sys.path.append(os.path.join(os.path.curdir, os.path.pardir))\n",
    "from libitmal.dataloaders import MNIST_GetDataSet\n",
    "from libitmal import utils\n",
    "from libitmal.classifiers import DummyClassifier\n",
    "from sklearn.model_selection import train_test_split \n",
    "from sklearn.metrics import accuracy_score\n",
    "from sklearn.linear_model import SGDClassifier\n",
    "\n",
    "#pretty much just a confusion matrix, but better than copypasting a bunch of code.\n",
    "def performanceMetrics(y_pred, y_true):\n",
    "    TP = 0\n",
    "    TN = 0\n",
    "    FP = 0\n",
    "    FN = 0\n",
    "    for i in range(len(y_true)):\n",
    "        if y_pred[i] == y_true[i] == 1:\n",
    "            TP += 1\n",
    "        if y_pred[i] == y_true[i] == 0:\n",
    "            TN += 1\n",
    "        if y_true[i] == 1 and y_pred[i]!=y_true[i]:\n",
    "            FP += 1\n",
    "        if y_true[i] == 0 and y_pred[i]!=y_true[i]:\n",
    "            FN += 1\n",
    "    return TN, FP, FN, TP \n",
    "\n",
    "def MyAccuracy(y_pred, y_true):\n",
    "    # TODO: you impl here\n",
    "    TN,FP,FN,TP = performanceMetrics(y_pred,y_true)\n",
    "    return (TP + TN) / len(y_true)\n",
    "\n",
    "\n",
    "# TEST FUNCTION: compare with Scikit-learn accuracy_score\n",
    "def TestAccuracy(y_pred, y_true):\n",
    "    a0=MyAccuracy(y_pred, y_true)\n",
    "    a1=accuracy_score(y_pred, y_true)\n",
    "\n",
    "    print(\"\\nmy a          =\",a0)\n",
    "    print(\"scikit-learn a=\",a1)\n",
    "\n",
    "    utils.InRange(a0,a1)\n",
    "    \n",
    "#pretty much copied from Qa dummy_classifier\n",
    "X, y = MNIST_GetDataSet()\n",
    "\n",
    "#print(\"X.shape=\",X.shape) # print X.shape= (70000, 28, 28)\n",
    "if X.ndim==3:\n",
    "    #print(\"reshaping X..\")\n",
    "    assert y.ndim==1\n",
    "    X = X.reshape((X.shape[0],X.shape[1]*X.shape[2]))\n",
    "assert X.ndim==2\n",
    "#print(\"X.shape=\",X.shape) # X.shape= (70000, 784)\n",
    "\n",
    "X_train, X_test, y_train, y_test = train_test_split(X,y)\n",
    "\n",
    "y_train_5 = (y_train == 5)    \n",
    "y_test_5  = (y_test == 5)\n",
    "\n",
    "sgd_clf = SGDClassifier(random_state=42)\n",
    "sgd_clf.fit(X_train,y_train_5)\n",
    "\n",
    "y_test_predict = sgd_clf.predict(X_test)\n",
    "\n",
    "TestAccuracy(y_test_5, y_test_predict)\n",
    "#for the dummy classifier\n",
    "dummy = DummyClassifier()\n",
    "\n",
    "y_dummy_predict = dummy.predict(X_test)\n",
    "\n",
    "TestAccuracy(y_test_5, y_dummy_predict)"
   ]
  },
  {
   "cell_type": "markdown",
   "metadata": {},
   "source": [
    "#### Qb Implement Precision, Recall and $F_1$-score and test it on the MNIST data.\n",
    "\n",
    "Now, implement the `MyPrecision`, `MyRecall` and `MyF1Score` functions, again taking MNIST as input, using the SGD and the Dummy classifiers and make some test vectors to compare to the functions found in Scikit-learn..."
   ]
  },
  {
   "cell_type": "code",
   "execution_count": 3,
   "metadata": {},
   "outputs": [
    {
     "name": "stdout",
     "output_type": "stream",
     "text": [
      "\n",
      "my p          = 0.7043037974683545\n",
      "scikit-learn p= 0.7043037974683545\n"
     ]
    },
    {
     "name": "stderr",
     "output_type": "stream",
     "text": [
      "C:\\Users\\Rasmus\\Anaconda3\\lib\\site-packages\\sklearn\\metrics\\classification.py:1135: UndefinedMetricWarning: Precision is ill-defined and being set to 0.0 due to no predicted samples.\n",
      "  'precision', 'predicted', average, warn_for)\n"
     ]
    },
    {
     "name": "stdout",
     "output_type": "stream",
     "text": [
      "\n",
      "my p          = 0\n",
      "scikit-learn p= 0.0\n",
      "\n",
      "my r          = 0.8814955640050697\n",
      "scikit-learn r= 0.8814955640050697\n",
      "\n",
      "my r          = 0.0\n",
      "scikit-learn r= 0.0\n",
      "\n",
      "my f1          = 0.783000281452294\n",
      "scikit-learn f1= 0.7830002814522937\n",
      "\n",
      "my f1          = 0\n",
      "scikit-learn f1= 0.0\n",
      "ok\n"
     ]
    },
    {
     "name": "stderr",
     "output_type": "stream",
     "text": [
      "C:\\Users\\Rasmus\\Anaconda3\\lib\\site-packages\\sklearn\\metrics\\classification.py:1135: UndefinedMetricWarning: F-score is ill-defined and being set to 0.0 due to no predicted samples.\n",
      "  'precision', 'predicted', average, warn_for)\n"
     ]
    }
   ],
   "source": [
    "# TODO: Qb..\n",
    "\n",
    "def MyPrecision(y_pred, y_true):\n",
    "    # TODO: you impl here\n",
    "    TN,FP,FN,TP = performanceMetrics(y_pred,y_true)\n",
    "    tpfp = TP+FP\n",
    "    if tpfp <= 0:\n",
    "        #should probably be an exception.\n",
    "        return 0\n",
    "    return TP / tpfp\n",
    "\n",
    "def MyRecall(y_pred, y_true):\n",
    "    # TODO: you impl here\n",
    "    TN,FP,FN,TP = performanceMetrics(y_pred,y_true)\n",
    "    return TP / (TP + FN)\n",
    "    \n",
    "def MyF1Score(y_pred, y_true):\n",
    "    # TODO: you impl here\n",
    "    p = MyPrecision(y_pred,y_true)\n",
    "    r = MyRecall(y_pred,y_true)\n",
    "    if p+r == 0:\n",
    "        return 0 #should be an exception\n",
    "    return 2 / ((1/p)+(1/r))\n",
    "\n",
    "# TODO: your test code here!\n",
    "\n",
    "from sklearn.metrics import precision_score\n",
    "from sklearn.metrics import recall_score\n",
    "from sklearn.metrics import f1_score\n",
    "\n",
    "# TEST FUNCTION: compare with Scikit-learn accuracy_score\n",
    "def TestPrecision(y_pred, y_true):\n",
    "    p0=MyPrecision(y_pred, y_true)\n",
    "    p1=precision_score(y_pred, y_true)\n",
    "\n",
    "    print(\"\\nmy p          =\",p0)\n",
    "    print(\"scikit-learn p=\",p1)\n",
    "\n",
    "    utils.InRange(p0,p1)\n",
    "\n",
    "def TestRecall(y_pred, y_true):\n",
    "    r0=MyRecall(y_pred, y_true)\n",
    "    r1=recall_score(y_pred, y_true)\n",
    "\n",
    "    print(\"\\nmy r          =\",r0)\n",
    "    print(\"scikit-learn r=\",r1)\n",
    "\n",
    "    utils.InRange(r0,r1)\n",
    "\n",
    "def TestMyF1Score(y_pred, y_true):\n",
    "    f1_0=MyF1Score(y_pred, y_true)\n",
    "    f1_1=f1_score(y_pred, y_true)\n",
    "\n",
    "    print(\"\\nmy f1          =\",f1_0)\n",
    "    print(\"scikit-learn f1=\",f1_1)\n",
    "\n",
    "    utils.InRange(f1_0,f1_1)\n",
    "    \n",
    "TestPrecision(y_test_5, y_test_predict)\n",
    "TestPrecision(y_test_5, y_dummy_predict)\n",
    "\n",
    "TestRecall(y_test_5, y_test_predict)\n",
    "TestRecall(y_test_5, y_dummy_predict)\n",
    "\n",
    "TestMyF1Score(y_test_5, y_test_predict)\n",
    "TestMyF1Score(y_test_5, y_dummy_predict)\n",
    "print(\"ok\")"
   ]
  },
  {
   "cell_type": "markdown",
   "metadata": {},
   "source": [
    "#### Qc The Confusion Matrix\n",
    "\n",
    "Revisit your solution to Qb in the `dummy_classifier.ipynb`. Did you manage to print the confusion matrix for both the Dummy and the SGD classifier?\n",
    "\n",
    "I got the two confusion matrices\n",
    "\n",
    "```\n",
    "M_dummy=[[18166     0]\n",
    "        [ 1834     0]]\n",
    "   \n",
    "M_SDG=[[17618   548]\n",
    "      [  267  1567]]\n",
    "\n",
    "```\n",
    "your data may look similar (but not 100% equal). See if you can print the confusion matrix (some test code below for inspiration).\n",
    "\n",
    "How are the Scikit-learn confusion matrix organized, where are the TP, FP, FN and TN located in the matrix indices, and what happens if you mess up the parameters calling\n",
    "\n",
    "```python\n",
    "confusion_matrix(y_train_pred, y_train_5)\n",
    "```\n",
    "\n",
    "instead of \n",
    "```python\n",
    "confusion_matrix(y_train_5, y_train_pred)\n",
    "```\n",
    "\n",
    "Finally, compare the real and symmetric auto-covariance matrix, $\\Sigma$, with the real but non-symmetric confusion matrix, $\\mathbf{M}$. What does the diagonal represent in the covar- and confusion matrix respectively, and why is the covar- symmetric, but the confusion not? "
   ]
  },
  {
   "cell_type": "code",
   "execution_count": 4,
   "metadata": {},
   "outputs": [
    {
     "name": "stdout",
     "output_type": "stream",
     "text": [
      "M=\n",
      "[[15338   584]\n",
      "    [  187  1391]]\n",
      "Messed up M=\n",
      "[[15338   187]\n",
      "              [  584  1391]]\n",
      "cov-matrix:\n",
      "[[0.10012613 0.06931319]\n",
      " [0.06931319 0.08204523]]\n"
     ]
    }
   ],
   "source": [
    "# TODO: Qc\n",
    "from sklearn.metrics import confusion_matrix\n",
    "import numpy as np\n",
    "\n",
    "# TEST CODE: some demo code to produce a 'test' confusion matrix using the SGD model \n",
    "M=confusion_matrix(y_test_5,y_test_predict)\n",
    "utils.PrintMatrix(M,\"M=\\n\")\n",
    "#TP is at index 3, FP is at index 1, FN is at index 2 and TN is at index 0.\n",
    "\n",
    "M=confusion_matrix(y_test_predict, y_test_5)\n",
    "utils.PrintMatrix(M,\"Messed up M=\\n\")\n",
    "\n",
    "#When the parameters are messed up, the values of FN and FP are swapped around\n",
    "\n",
    "print(f\"cov-matrix:\\n{np.cov(y_test_predict, y_test_5)}\")\n",
    "#"
   ]
  },
  {
   "cell_type": "markdown",
   "metadata": {},
   "source": [
    "#### Qd A Confusion Matrix Heat-map\n",
    "\n",
    "Generate a _heat map_ image for the confusion matrices, `M_dummy` and `M_SGD` respectively, getting inspiration from [HOML], pp96-97.\n",
    "\n",
    "This heat map could be an important guide for you when analysing multiclass data in the future."
   ]
  },
  {
   "cell_type": "code",
   "execution_count": 5,
   "metadata": {},
   "outputs": [
    {
     "name": "stdout",
     "output_type": "stream",
     "text": [
      "Heatmap for M_SGD:\n",
      "[[15338   584]\n",
      " [  187  1391]]\n"
     ]
    },
    {
     "data": {
      "image/png": "[encoded data removed]",
      "text/plain": [
       "<Figure size 288x288 with 1 Axes>"
      ]
     },
     "metadata": {},
     "output_type": "display_data"
    },
    {
     "name": "stdout",
     "output_type": "stream",
     "text": [
      "Heatmap for M_dummy:\n",
      "[[15922     0]\n",
      " [ 1578     0]]\n"
     ]
    },
    {
     "data": {
      "image/png": "[encoded data removed]",
      "text/plain": [
       "<Figure size 288x288 with 1 Axes>"
      ]
     },
     "metadata": {},
     "output_type": "display_data"
    }
   ],
   "source": [
    "# TODO: Qd\n",
    "M_SGD = confusion_matrix(y_test_5,y_test_predict)\n",
    "M_dummy = confusion_matrix(y_test_5, y_dummy_predict)\n",
    "\n",
    "%matplotlib inline\n",
    "import matplotlib\n",
    "import matplotlib.pyplot as plt\n",
    "print(f\"Heatmap for M_SGD:\\n{M_SGD}\")\n",
    "plt.matshow(M_SGD,cmap=plt.cm.gray)\n",
    "plt.show()\n",
    "print(f\"Heatmap for M_dummy:\\n{M_dummy}\")\n",
    "plt.matshow(M_dummy,cmap=plt.cm.gray)\n",
    "plt.show()"
   ]
  },
  {
   "cell_type": "markdown",
   "metadata": {},
   "source": [
    "#### Qe Run a classifier on your data\n",
    "\n",
    "Finally, try to run a classifier on the data-set you selected previously, perhaps starting with the SGD.\n",
    "\n",
    "Is it possible to classify at all on your data, or do we need regression instead?\n",
    "\n",
    "Are you able to do supervised learning, or are there no obvious `y_true` data in your set at all?\n",
    "\n",
    "If your data is in the form, where you are able to do supervised-classification, could you produce a confusion matrix heatmap, then?"
   ]
  },
  {
   "cell_type": "code",
   "execution_count": 6,
   "metadata": {},
   "outputs": [],
   "source": [
    "# TODO: Qe...\n",
    "#copied from dataset Qg\n",
    "import pandas as pd\n",
    "\n",
    "wine_data = pd.read_csv(os.path.join('..', 'datasets', 'winequality-red.csv'))\n",
    "\n",
    "wine_data.head()\n",
    "\n",
    "\n",
    "#Det er meget oplagt at køre en classifier på dette data, da det handler om at inddele vine i kvalitets kategorier baseret på en længere række faktorer\n",
    "#Quality transformeres fra en score fra 0-10, til en god/bad score, hvor (1 er good) når den er >6 og bad (0) når den er <=6.\n",
    "bins = [0,6,10]\n",
    "groups = [0,1]\n",
    "y = pd.cut(wine_data['quality'],bins=bins, labels=groups)\n",
    "X = wine_data.drop('quality',axis=1)\n",
    "\n",
    "X_train, X_test, y_train, y_test = train_test_split(X, y, shuffle=True,random_state=13)\n"
   ]
  },
  {
   "cell_type": "code",
   "execution_count": 7,
   "metadata": {},
   "outputs": [
    {
     "name": "stdout",
     "output_type": "stream",
     "text": [
      "Metrics for SGD:\n",
      "             precision    recall  f1-score   support\n",
      "\n",
      "          0       0.93      0.58      0.72       345\n",
      "          1       0.21      0.71      0.33        55\n",
      "\n",
      "avg / total       0.83      0.60      0.66       400\n",
      "\n",
      "Metrics for RFC:\n",
      "             precision    recall  f1-score   support\n",
      "\n",
      "          0       0.92      0.99      0.96       345\n",
      "          1       0.87      0.49      0.63        55\n",
      "\n",
      "avg / total       0.92      0.92      0.91       400\n",
      "\n"
     ]
    }
   ],
   "source": [
    "from sklearn.ensemble import RandomForestClassifier \n",
    "from sklearn.metrics import classification_report\n",
    "\n",
    "#SGD\n",
    "sgd_clf = SGDClassifier(random_state=42)\n",
    "\n",
    "sgd_clf = sgd_clf.fit(X_train,y_train)\n",
    "sgd_prediction = sgd_clf.predict(X_test)\n",
    "\n",
    "print(\"Metrics for SGD:\")\n",
    "print(classification_report(y_test,sgd_prediction))\n",
    "\n",
    "#Random Forest Classifier\n",
    "rfc = RandomForestClassifier(n_estimators=100,random_state=42)\n",
    "\n",
    "rfc = rfc.fit(X_train,y_train)\n",
    "rfc_prediction = rfc.predict(X_test)\n",
    "\n",
    "print(\"Metrics for RFC:\")\n",
    "print(classification_report(y_test,rfc_prediction))"
   ]
  },
  {
   "cell_type": "code",
   "execution_count": 8,
   "metadata": {},
   "outputs": [
    {
     "name": "stdout",
     "output_type": "stream",
     "text": [
      "Heatmap for cm_sgd:\n",
      "[[201 144]\n",
      " [ 16  39]]\n"
     ]
    },
    {
     "data": {
      "image/png": "[encoded data removed]",
      "text/plain": [
       "<Figure size 288x288 with 1 Axes>"
      ]
     },
     "metadata": {},
     "output_type": "display_data"
    },
    {
     "name": "stdout",
     "output_type": "stream",
     "text": [
      "Heatmap for cm_rfc:\n",
      "[[341   4]\n",
      " [ 28  27]]\n"
     ]
    },
    {
     "data": {
      "image/png": "[encoded data removed]",
      "text/plain": [
       "<Figure size 288x288 with 1 Axes>"
      ]
     },
     "metadata": {},
     "output_type": "display_data"
    }
   ],
   "source": [
    "#Confusion matrix and heatmap for the models\n",
    "cm_sgd = confusion_matrix(y_test,sgd_prediction)\n",
    "print(f\"Heatmap for cm_sgd:\\n{cm_sgd}\")\n",
    "plt.matshow(cm_sgd,cmap=plt.cm.gray)\n",
    "plt.show()\n",
    "\n",
    "\n",
    "cm_rfc = confusion_matrix(y_test,rfc_prediction)\n",
    "print(f\"Heatmap for cm_rfc:\\n{cm_rfc}\")\n",
    "plt.matshow(cm_rfc,cmap=plt.cm.gray)\n",
    "plt.show()"
   ]
  },
  {
   "cell_type": "code",
   "execution_count": null,
   "metadata": {},
   "outputs": [],
   "source": []
  },
  {
   "cell_type": "code",
   "execution_count": null,
   "metadata": {},
   "outputs": [],
   "source": []
  }
 ],
 "metadata": {
  "kernelspec": {
   "display_name": "Python 3",
   "language": "python",
   "name": "python3"
  },
  "language_info": {
   "codemirror_mode": {
    "name": "ipython",
    "version": 3
   },
   "file_extension": ".py",
   "mimetype": "text/x-python",
   "name": "python",
   "nbconvert_exporter": "python",
   "pygments_lexer": "ipython3",
   "version": "3.6.5"
  }
 },
 "nbformat": 4,
 "nbformat_minor": 2
}
